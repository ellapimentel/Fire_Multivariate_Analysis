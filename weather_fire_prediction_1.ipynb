{
 "cells": [
  {
   "cell_type": "code",
   "execution_count": 1,
   "metadata": {},
   "outputs": [],
   "source": [
    "#Load relevant libraries\n",
    "\n",
    "import numpy as np\n",
    "import pandas as pd\n",
    "import matplotlib.pyplot as plt\n",
    "import seaborn as sns \n",
    "import warnings\n",
    "import geopandas as gpd\n",
    "import datetime as dt\n",
    "from scipy.spatial.distance import cdist\n",
    "from sklearn.impute import KNNImputer\n",
    "from shapely.geometry import Point, Polygon\n",
    "warnings.filterwarnings('ignore')"
   ]
  },
  {
   "cell_type": "code",
   "execution_count": 2,
   "metadata": {},
   "outputs": [],
   "source": [
    "#Load data for cities, fires \n",
    "cities = pd.read_csv('precipitation_temp_city/city_info.csv',index_col=0)\n",
    "fires = pd.read_csv('Monitoring_Trends_in_Burn_Severity_Fire_Occurrence_Locations__Feature_Layer_.csv')"
   ]
  },
  {
   "cell_type": "code",
   "execution_count": 3,
   "metadata": {},
   "outputs": [
    {
     "data": {
      "text/plain": [
       "array(['Winnemucca', 'Reno', 'Escondido', 'Ukiah', 'Sacramento',\n",
       "       'Riverside', 'SanDiego', 'Redding', 'LosAngeles', 'Fresno',\n",
       "       'Bakersfield'], dtype=object)"
      ]
     },
     "execution_count": 3,
     "metadata": {},
     "output_type": "execute_result"
    }
   ],
   "source": [
    "# Restrict cities to California area for purposes of project \n",
    "California = cities.loc[cities['Lon'] < -117]\n",
    "California = California.loc[California['Lon'] > -124]\n",
    "California = California.loc[California['Lat'] < 42.02]\n",
    "California = California.loc[California['Lat'] > 32.64]\n",
    "California.Name.unique()"
   ]
  },
  {
   "cell_type": "code",
   "execution_count": 4,
   "metadata": {},
   "outputs": [
    {
     "data": {
      "text/html": [
       "<div>\n",
       "<style scoped>\n",
       "    .dataframe tbody tr th:only-of-type {\n",
       "        vertical-align: middle;\n",
       "    }\n",
       "\n",
       "    .dataframe tbody tr th {\n",
       "        vertical-align: top;\n",
       "    }\n",
       "\n",
       "    .dataframe thead th {\n",
       "        text-align: right;\n",
       "    }\n",
       "</style>\n",
       "<table border=\"1\" class=\"dataframe\">\n",
       "  <thead>\n",
       "    <tr style=\"text-align: right;\">\n",
       "      <th></th>\n",
       "      <th>Name</th>\n",
       "      <th>ID</th>\n",
       "      <th>Lat</th>\n",
       "      <th>Lon</th>\n",
       "      <th>Stn.Name</th>\n",
       "      <th>Stn.stDate</th>\n",
       "      <th>Stn.edDate</th>\n",
       "    </tr>\n",
       "  </thead>\n",
       "  <tbody>\n",
       "    <tr>\n",
       "      <th>184</th>\n",
       "      <td>Winnemucca</td>\n",
       "      <td>USW00024128</td>\n",
       "      <td>40.9017</td>\n",
       "      <td>-117.8081</td>\n",
       "      <td>WINNEMUCCA MUNICIPAL ARPT</td>\n",
       "      <td>1949-09-15</td>\n",
       "      <td>2017-12-31</td>\n",
       "    </tr>\n",
       "    <tr>\n",
       "      <th>186</th>\n",
       "      <td>Reno</td>\n",
       "      <td>USW00023185</td>\n",
       "      <td>39.4839</td>\n",
       "      <td>-119.7711</td>\n",
       "      <td>RENO TAHOE INTERNATIONAL AP</td>\n",
       "      <td>1937-03-01</td>\n",
       "      <td>2017-12-31</td>\n",
       "    </tr>\n",
       "    <tr>\n",
       "      <th>403</th>\n",
       "      <td>Escondido</td>\n",
       "      <td>USC00042863</td>\n",
       "      <td>33.1211</td>\n",
       "      <td>-117.0900</td>\n",
       "      <td>Escondido 2</td>\n",
       "      <td>1979-04-01</td>\n",
       "      <td>2017-12-31</td>\n",
       "    </tr>\n",
       "    <tr>\n",
       "      <th>405</th>\n",
       "      <td>Ukiah</td>\n",
       "      <td>USW00023275</td>\n",
       "      <td>39.1258</td>\n",
       "      <td>-123.2008</td>\n",
       "      <td>UKIAH MUNI AP</td>\n",
       "      <td>2000-08-01</td>\n",
       "      <td>2017-12-31</td>\n",
       "    </tr>\n",
       "    <tr>\n",
       "      <th>406</th>\n",
       "      <td>Sacramento</td>\n",
       "      <td>USW00023271</td>\n",
       "      <td>38.5553</td>\n",
       "      <td>-121.4183</td>\n",
       "      <td>SACRAMENTO 5 ESE</td>\n",
       "      <td>1878-01-01</td>\n",
       "      <td>2017-12-31</td>\n",
       "    </tr>\n",
       "  </tbody>\n",
       "</table>\n",
       "</div>"
      ],
      "text/plain": [
       "           Name           ID      Lat       Lon                     Stn.Name  \\\n",
       "184  Winnemucca  USW00024128  40.9017 -117.8081    WINNEMUCCA MUNICIPAL ARPT   \n",
       "186        Reno  USW00023185  39.4839 -119.7711  RENO TAHOE INTERNATIONAL AP   \n",
       "403   Escondido  USC00042863  33.1211 -117.0900                  Escondido 2   \n",
       "405       Ukiah  USW00023275  39.1258 -123.2008                UKIAH MUNI AP   \n",
       "406  Sacramento  USW00023271  38.5553 -121.4183             SACRAMENTO 5 ESE   \n",
       "\n",
       "     Stn.stDate  Stn.edDate  \n",
       "184  1949-09-15  2017-12-31  \n",
       "186  1937-03-01  2017-12-31  \n",
       "403  1979-04-01  2017-12-31  \n",
       "405  2000-08-01  2017-12-31  \n",
       "406  1878-01-01  2017-12-31  "
      ]
     },
     "execution_count": 4,
     "metadata": {},
     "output_type": "execute_result"
    }
   ],
   "source": [
    "California =California.drop_duplicates(subset='Name', keep='last')\n",
    "California.head()"
   ]
  },
  {
   "cell_type": "code",
   "execution_count": 5,
   "metadata": {},
   "outputs": [],
   "source": [
    "#load relevant data for each city of choice \n",
    "\n",
    "bakersfield_w = pd.read_csv('precipitation_temp_city/USW00023155.csv', index_col=0).reset_index(drop=True)\n",
    "fresno_w = pd.read_csv('precipitation_temp_city/USW00093193.csv', index_col=0).reset_index(drop=True)\n",
    "la_w = pd.read_csv('precipitation_temp_city/USW00093134.csv', index_col=0).reset_index(drop=True)\n",
    "redding_w = pd.read_csv('precipitation_temp_city/USW00024257.csv', index_col=0).reset_index(drop=True)\n",
    "sd_w = pd.read_csv('precipitation_temp_city/USW00023188.csv', index_col=0).reset_index(drop=True)\n",
    "riverside_w = pd.read_csv('precipitation_temp_city/USW00003171.csv', index_col=0).reset_index(drop=True)\n",
    "sac_w = pd.read_csv('precipitation_temp_city/USW00023271.csv', index_col=0).reset_index(drop=True)\n",
    "ukiah_w = pd.read_csv('precipitation_temp_city/USW00023275.csv', index_col=0).reset_index(drop=True)\n",
    "#escondido_w = pd.read_csv('precipitation_temp_city/USC00042863.csv', index_col=0).reset_index(drop=True)\n",
    "reno_w = pd.read_csv('precipitation_temp_city/USW00023185.csv', index_col=0).reset_index(drop=True)\n",
    "Winnemucca_w = pd.read_csv('precipitation_temp_city/USW00024128.csv', index_col=0).reset_index(drop=True)"
   ]
  },
  {
   "cell_type": "code",
   "execution_count": 6,
   "metadata": {
    "scrolled": false
   },
   "outputs": [],
   "source": [
    "#https://www.ncdc.noaa.gov/cdo-web/confirmation\n",
    "\n",
    "\n",
    "# escondido_prcp = pd.read_csv('2314803.csv')\n",
    "# escondido_prcp = escondido_prcp[['DATE','PRCP']]\n",
    "# escondido_prcp.head()\n",
    "# escondido_prcp['DATE'] = pd.to_datetime(escondido_prcp['DATE'])\n",
    "# escondido_prcp.rename(columns={'DATE':'Date'}, inplace=True)\n",
    "# escondido_w['Date'] = pd.to_datetime(escondido_w['Date'])\n",
    "# escondido_w = pd.merge(escondido_w, escondido_prcp, on= 'Date' , how= 'left')\n",
    "# escondido_w['prcp'].fillna(escondido_w['PRCP'], inplace=True)\n",
    "# escondido_w.drop(['PRCP'], axis=1, inplace=True)"
   ]
  },
  {
   "cell_type": "code",
   "execution_count": 7,
   "metadata": {},
   "outputs": [],
   "source": [
    "# For each city df add Lat and Long so that we can merge all data frames later \n",
    "california_cities = [bakersfield_w, fresno_w, la_w, redding_w, sd_w, riverside_w, sac_w, ukiah_w,  reno_w, Winnemucca_w]\n",
    "names = ['Bakersfield', 'Fresno','LosAngeles', 'Redding', 'SanDiego', 'Riverside','Sacramento', 'Ukiah', 'Reno', 'Winnemucca']\n",
    "for city, name in zip(california_cities, names):\n",
    "    city['Latitude'] = California['Lat'].loc[California['Name']== name].values[0]\n",
    "    city['Longitude'] = California['Lon'].loc[California['Name']== name].values[0]"
   ]
  },
  {
   "cell_type": "code",
   "execution_count": 8,
   "metadata": {},
   "outputs": [],
   "source": [
    "#convert all Date columns to datetime \n",
    "\n",
    "for city in california_cities:\n",
    "    city['Date'] = pd.to_datetime(city['Date'])"
   ]
  },
  {
   "cell_type": "code",
   "execution_count": 9,
   "metadata": {},
   "outputs": [],
   "source": [
    "\n",
    "def drop_dates(city_list):\n",
    "    new_list = []\n",
    "    for city in city_list:\n",
    "        city = city[(city['Date'] > '1983-12-31')]\n",
    "        city = city[(city['Date'] < '2018-01-01')] \n",
    "        city = city.reset_index(drop=True)\n",
    "        new_list.append(city)\n",
    "        city_list = new_list\n",
    "    return city_list \n",
    "\n"
   ]
  },
  {
   "cell_type": "code",
   "execution_count": 10,
   "metadata": {},
   "outputs": [],
   "source": [
    "california_cities = drop_dates(california_cities)\n"
   ]
  },
  {
   "cell_type": "code",
   "execution_count": 11,
   "metadata": {},
   "outputs": [
    {
     "name": "stdout",
     "output_type": "stream",
     "text": [
      "Bakersfield\n",
      "Date         0\n",
      "tmax         0\n",
      "tmin         0\n",
      "prcp         0\n",
      "Latitude     0\n",
      "Longitude    0\n",
      "dtype: int64\n",
      "Fresno\n",
      "Date         0\n",
      "tmax         0\n",
      "tmin         0\n",
      "prcp         0\n",
      "Latitude     0\n",
      "Longitude    0\n",
      "dtype: int64\n",
      "LosAngeles\n",
      "Date         0\n",
      "tmax         1\n",
      "tmin         0\n",
      "prcp         0\n",
      "Latitude     0\n",
      "Longitude    0\n",
      "dtype: int64\n",
      "Redding\n",
      "Date          0\n",
      "tmax         73\n",
      "tmin         32\n",
      "prcp         32\n",
      "Latitude      0\n",
      "Longitude     0\n",
      "dtype: int64\n",
      "SanDiego\n",
      "Date         0\n",
      "tmax         0\n",
      "tmin         0\n",
      "prcp         0\n",
      "Latitude     0\n",
      "Longitude    0\n",
      "dtype: int64\n",
      "Riverside\n",
      "Date           0\n",
      "tmax         780\n",
      "tmin         772\n",
      "prcp         230\n",
      "Latitude       0\n",
      "Longitude      0\n",
      "dtype: int64\n",
      "Sacramento\n",
      "Date         0\n",
      "tmax         2\n",
      "tmin         1\n",
      "prcp         0\n",
      "Latitude     0\n",
      "Longitude    0\n",
      "dtype: int64\n",
      "Ukiah\n",
      "Date           0\n",
      "tmax         289\n",
      "tmin         223\n",
      "prcp         237\n",
      "Latitude       0\n",
      "Longitude      0\n",
      "dtype: int64\n",
      "Reno\n",
      "Date         0\n",
      "tmax         0\n",
      "tmin         0\n",
      "prcp         1\n",
      "Latitude     0\n",
      "Longitude    0\n",
      "dtype: int64\n",
      "Winnemucca\n",
      "Date         0\n",
      "tmax         0\n",
      "tmin         0\n",
      "prcp         0\n",
      "Latitude     0\n",
      "Longitude    0\n",
      "dtype: int64\n"
     ]
    }
   ],
   "source": [
    "#Look at null values in each dataset\n",
    "\n",
    "for city, name in zip(california_cities, names):\n",
    "    print(name)\n",
    "    print(city.isna().sum())"
   ]
  },
  {
   "cell_type": "code",
   "execution_count": 12,
   "metadata": {},
   "outputs": [
    {
     "ename": "TypeError",
     "evalue": "invalid type promotion",
     "output_type": "error",
     "traceback": [
      "\u001b[0;31m---------------------------------------------------------------------------\u001b[0m",
      "\u001b[0;31mTypeError\u001b[0m                                 Traceback (most recent call last)",
      "\u001b[0;32m<ipython-input-12-af51e9799848>\u001b[0m in \u001b[0;36m<module>\u001b[0;34m\u001b[0m\n\u001b[1;32m      1\u001b[0m \u001b[0mimputer\u001b[0m \u001b[0;34m=\u001b[0m \u001b[0mKNNImputer\u001b[0m\u001b[0;34m(\u001b[0m\u001b[0mn_neighbors\u001b[0m\u001b[0;34m=\u001b[0m\u001b[0;36m5\u001b[0m\u001b[0;34m)\u001b[0m\u001b[0;34m\u001b[0m\u001b[0;34m\u001b[0m\u001b[0m\n\u001b[0;32m----> 2\u001b[0;31m \u001b[0mimputer\u001b[0m\u001b[0;34m.\u001b[0m\u001b[0mfit\u001b[0m\u001b[0;34m(\u001b[0m\u001b[0mukiah_w\u001b[0m\u001b[0;34m)\u001b[0m\u001b[0;34m\u001b[0m\u001b[0;34m\u001b[0m\u001b[0m\n\u001b[0m\u001b[1;32m      3\u001b[0m \u001b[0;34m\u001b[0m\u001b[0m\n\u001b[1;32m      4\u001b[0m \u001b[0;34m\u001b[0m\u001b[0m\n",
      "\u001b[0;32m/opt/anaconda3/lib/python3.7/site-packages/sklearn/impute/_knn.py\u001b[0m in \u001b[0;36mfit\u001b[0;34m(self, X, y)\u001b[0m\n\u001b[1;32m    180\u001b[0m \u001b[0;34m\u001b[0m\u001b[0m\n\u001b[1;32m    181\u001b[0m         X = check_array(X, accept_sparse=False, dtype=FLOAT_DTYPES,\n\u001b[0;32m--> 182\u001b[0;31m                         force_all_finite=force_all_finite, copy=self.copy)\n\u001b[0m\u001b[1;32m    183\u001b[0m         \u001b[0msuper\u001b[0m\u001b[0;34m(\u001b[0m\u001b[0;34m)\u001b[0m\u001b[0;34m.\u001b[0m\u001b[0m_fit_indicator\u001b[0m\u001b[0;34m(\u001b[0m\u001b[0mX\u001b[0m\u001b[0;34m)\u001b[0m\u001b[0;34m\u001b[0m\u001b[0;34m\u001b[0m\u001b[0m\n\u001b[1;32m    184\u001b[0m \u001b[0;34m\u001b[0m\u001b[0m\n",
      "\u001b[0;32m/opt/anaconda3/lib/python3.7/site-packages/sklearn/utils/validation.py\u001b[0m in \u001b[0;36mcheck_array\u001b[0;34m(array, accept_sparse, accept_large_sparse, dtype, order, copy, force_all_finite, ensure_2d, allow_nd, ensure_min_samples, ensure_min_features, warn_on_dtype, estimator)\u001b[0m\n\u001b[1;32m    473\u001b[0m \u001b[0;34m\u001b[0m\u001b[0m\n\u001b[1;32m    474\u001b[0m         \u001b[0;32mif\u001b[0m \u001b[0mall\u001b[0m\u001b[0;34m(\u001b[0m\u001b[0misinstance\u001b[0m\u001b[0;34m(\u001b[0m\u001b[0mdtype\u001b[0m\u001b[0;34m,\u001b[0m \u001b[0mnp\u001b[0m\u001b[0;34m.\u001b[0m\u001b[0mdtype\u001b[0m\u001b[0;34m)\u001b[0m \u001b[0;32mfor\u001b[0m \u001b[0mdtype\u001b[0m \u001b[0;32min\u001b[0m \u001b[0mdtypes_orig\u001b[0m\u001b[0;34m)\u001b[0m\u001b[0;34m:\u001b[0m\u001b[0;34m\u001b[0m\u001b[0;34m\u001b[0m\u001b[0m\n\u001b[0;32m--> 475\u001b[0;31m             \u001b[0mdtype_orig\u001b[0m \u001b[0;34m=\u001b[0m \u001b[0mnp\u001b[0m\u001b[0;34m.\u001b[0m\u001b[0mresult_type\u001b[0m\u001b[0;34m(\u001b[0m\u001b[0;34m*\u001b[0m\u001b[0mdtypes_orig\u001b[0m\u001b[0;34m)\u001b[0m\u001b[0;34m\u001b[0m\u001b[0;34m\u001b[0m\u001b[0m\n\u001b[0m\u001b[1;32m    476\u001b[0m \u001b[0;34m\u001b[0m\u001b[0m\n\u001b[1;32m    477\u001b[0m     \u001b[0;32mif\u001b[0m \u001b[0mdtype_numeric\u001b[0m\u001b[0;34m:\u001b[0m\u001b[0;34m\u001b[0m\u001b[0;34m\u001b[0m\u001b[0m\n",
      "\u001b[0;32m<__array_function__ internals>\u001b[0m in \u001b[0;36mresult_type\u001b[0;34m(*args, **kwargs)\u001b[0m\n",
      "\u001b[0;31mTypeError\u001b[0m: invalid type promotion"
     ]
    }
   ],
   "source": [
    "imputer = KNNImputer(n_neighbors=5)\n",
    "imputer.fit(ukiah_w)\n",
    "\n",
    "\n"
   ]
  },
  {
   "cell_type": "code",
   "execution_count": null,
   "metadata": {},
   "outputs": [],
   "source": [
    "plt.figure(figsize=(20,10))\n",
    "for city, num, name in zip(california_cities, range(1,len(california_cities)+1), names):\n",
    "    plt.subplot(4,3,num)\n",
    "    sns.lineplot('Date', 'prcp', data = city)\n",
    "    plt.title(name)\n",
    "    plt.xlabel('date')\n",
    "    plt.ylabel('prcp')\n",
    "    plt.show"
   ]
  },
  {
   "cell_type": "code",
   "execution_count": null,
   "metadata": {},
   "outputs": [],
   "source": [
    "plt.figure(figsize=(20,20))\n",
    "for city, num, name in zip(california_cities, range(1,len(california_cities)+1), names):\n",
    "    plt.subplot(6,2,num)\n",
    "    sns.lineplot('Date', 'tmax', data = city)\n",
    "    plt.title(name)\n",
    "    plt.xlabel('date')\n",
    "    plt.ylabel('tmax')\n",
    "    plt.show"
   ]
  },
  {
   "cell_type": "code",
   "execution_count": null,
   "metadata": {},
   "outputs": [],
   "source": [
    "plt.figure(figsize=(20,20))\n",
    "for city, num, name in zip(california_cities, range(1,len(california_cities)+1), names):\n",
    "    plt.subplot(6,2,num)\n",
    "    sns.lineplot('Date', 'tmin', data = city)\n",
    "    plt.title(name)\n",
    "    plt.xlabel('date')\n",
    "    plt.ylabel('tmin')\n",
    "    plt.show"
   ]
  },
  {
   "cell_type": "code",
   "execution_count": null,
   "metadata": {},
   "outputs": [],
   "source": [
    "def interpolate_null(list_of_df, column):\n",
    "    for city in list_of_df:\n",
    "        city[column] = city[column].interpolate()\n",
    "        \n",
    "    return list_of_df"
   ]
  },
  {
   "cell_type": "code",
   "execution_count": null,
   "metadata": {},
   "outputs": [],
   "source": [
    "california_cities = interpolate_null(california_cities, 'tmax')\n",
    "california_cities = interpolate_null(california_cities, 'tmin')\n",
    "\n"
   ]
  },
  {
   "cell_type": "code",
   "execution_count": null,
   "metadata": {},
   "outputs": [],
   "source": [
    "plt.figure(figsize=(20,10))\n",
    "for city, num, name in zip(california_cities, range(1,len(california_cities)+1), names):\n",
    "    plt.subplot(4,3,num)\n",
    "    sns.lineplot('Date', 'tmax', data = city)\n",
    "    plt.title(name)\n",
    "    plt.xlabel('date')\n",
    "    plt.ylabel('tmax')\n",
    "    plt.show"
   ]
  },
  {
   "cell_type": "code",
   "execution_count": null,
   "metadata": {},
   "outputs": [],
   "source": [
    "#check for null values \n",
    "\n",
    "for city in california_cities:\n",
    "    print(city.isna().sum())"
   ]
  },
  {
   "cell_type": "code",
   "execution_count": null,
   "metadata": {},
   "outputs": [],
   "source": [
    "#remove unnecessary columns from the fire data \n",
    "fires = fires[['FIRE_ID','LATITUDE', 'LONGITUDE', 'FIRE_TYPE','IG_DATE', 'ACRES']]\n",
    "#remove all fires that are not wildfires\n",
    "fires = fires.loc[fires['FIRE_TYPE'] == 'Wildfire']\n",
    "fires.head()"
   ]
  },
  {
   "cell_type": "code",
   "execution_count": null,
   "metadata": {},
   "outputs": [],
   "source": [
    "#convert IG_DATE to datetime with YYYY-MM-DD Format labeled 'Date'\n",
    "\n",
    "fires['Year'] = pd.DatetimeIndex(fires['IG_DATE']).year\n",
    "fires['Month'] = pd.DatetimeIndex(fires['IG_DATE']).month\n",
    "fires['Day'] = pd.DatetimeIndex(fires['IG_DATE']).day\n",
    "fires['Date'] = pd.to_datetime([f'{y}-{m}-{d}' for y, m,d in zip(fires.Year, fires.Month, fires.Day)])\n",
    "fires.drop(['IG_DATE', 'Month', 'Year', 'Day'], axis=1, inplace=True)\n",
    "fires = fires.reset_index(drop=True)"
   ]
  },
  {
   "cell_type": "markdown",
   "metadata": {},
   "source": [
    "Since current weather conditions are dependent on recent weather patterns, we are adding a column for total consecutive days without rain, consecutive hot days, and total precipitation for the past 90 days. "
   ]
  },
  {
   "cell_type": "code",
   "execution_count": null,
   "metadata": {},
   "outputs": [],
   "source": [
    "def create_last_rain_column(df): \n",
    "    last_rain = []\n",
    "    count = 1\n",
    "    for i in range(len(df)):\n",
    "        if df['prcp'][i] > 0:\n",
    "            last_rain.append(0)\n",
    "            count = 1\n",
    "        else:\n",
    "            last_rain.append(count)\n",
    "            count += 1\n",
    "    df['last_rain'] = last_rain       \n",
    "    return  df"
   ]
  },
  {
   "cell_type": "code",
   "execution_count": null,
   "metadata": {},
   "outputs": [],
   "source": [
    "def create_heat_wave_column(df): \n",
    "    heat_wave = []\n",
    "    count = 0\n",
    "    for i in range(len(df)):\n",
    "        if df['tmax'][i] >= 85.0:\n",
    "            count += 1\n",
    "            heat_wave.append(count)\n",
    "            \n",
    "        else:\n",
    "            heat_wave.append(0)\n",
    "            count = 0\n",
    "    df['heat_wave'] = heat_wave      \n",
    "    return  df"
   ]
  },
  {
   "cell_type": "code",
   "execution_count": null,
   "metadata": {},
   "outputs": [],
   "source": [
    "bakersfield_w.describe()"
   ]
  },
  {
   "cell_type": "code",
   "execution_count": null,
   "metadata": {},
   "outputs": [],
   "source": [
    "for city in california_cities:\n",
    "    city = create_last_rain_column(city)\n",
    "    city = create_heat_wave_column(city)"
   ]
  },
  {
   "cell_type": "markdown",
   "metadata": {},
   "source": [
    "Now to match the fires with the nearest city location based on their latitude and Longitude.\n",
    "\n",
    "First, we will merge all weather data into a master data frame. Then we will take the unique values for latitude and longitude and match each fire location with the nearest city. Then we can merge the fire dataframe with the weather datafram on the latitude and longitude of the cities. "
   ]
  },
  {
   "cell_type": "code",
   "execution_count": null,
   "metadata": {},
   "outputs": [],
   "source": [
    "weather = pd.concat(california_cities)\n",
    "weather.shape"
   ]
  },
  {
   "cell_type": "code",
   "execution_count": null,
   "metadata": {},
   "outputs": [],
   "source": [
    "weather['point'] = [(x,y) for x,y in zip ( weather['Latitude'], weather['Longitude'])]\n",
    "fires['loc'] = [(x,y) for x,y in zip (fires['LATITUDE'], fires['LONGITUDE'])]\n",
    "city_locations = weather['point'].unique()\n",
    "city_locations = [list(point) for point in city_locations ]\n"
   ]
  },
  {
   "cell_type": "code",
   "execution_count": null,
   "metadata": {},
   "outputs": [],
   "source": [
    "city =[]\n",
    "for i in range( len (fires['loc'])):\n",
    "    distance = cdist([list(fires['loc'][i])], city_locations)\n",
    "    minim = distance.min()\n",
    "    k,j = np.where(distance == minim)\n",
    "    city.append(city_locations[j[0]])\n",
    "    "
   ]
  },
  {
   "cell_type": "code",
   "execution_count": null,
   "metadata": {},
   "outputs": [],
   "source": [
    "fires['city'] = city\n",
    "fires.drop('loc', axis=1, inplace=True)\n",
    "fires.head()"
   ]
  },
  {
   "cell_type": "code",
   "execution_count": null,
   "metadata": {},
   "outputs": [],
   "source": [
    "weather.rename(columns={'Latitude': 'city_lat', 'Longitude': 'city_long'}, inplace=True)\n",
    "weather.drop('point', axis=1, inplace=True)\n",
    "weather.head()"
   ]
  },
  {
   "cell_type": "code",
   "execution_count": null,
   "metadata": {},
   "outputs": [],
   "source": [
    "\n",
    "fires[['city_lat', 'city_long']] = pd.DataFrame(fires.city.tolist(), index= fires.index)\n",
    "fires.drop('city', axis=1, inplace=True)\n",
    "fires.head()"
   ]
  },
  {
   "cell_type": "code",
   "execution_count": null,
   "metadata": {},
   "outputs": [],
   "source": [
    "group1 = fires.groupby(['city_lat' , 'city_long', 'Date'])['FIRE_ID'].count().to_frame('Total_fires')\n",
    "group2 = fires.groupby(['city_lat' , 'city_long', 'Date'])['ACRES'].sum().to_frame('Total_acres')\n",
    "fire = pd.merge(group1, group2, on = ['city_lat' , 'city_long', 'Date'], how ='left').reset_index()\n",
    "fire.head()"
   ]
  },
  {
   "cell_type": "code",
   "execution_count": null,
   "metadata": {},
   "outputs": [],
   "source": [
    "weather['Date'] = pd.to_datetime(weather['Date'])\n",
    "weather.dtypes"
   ]
  },
  {
   "cell_type": "code",
   "execution_count": null,
   "metadata": {},
   "outputs": [],
   "source": [
    "data = pd.merge(weather, fire, on = ['Date','city_lat', 'city_long'], how ='left')\n",
    "data.fillna(0, inplace=True)"
   ]
  },
  {
   "cell_type": "code",
   "execution_count": null,
   "metadata": {},
   "outputs": [],
   "source": [
    "data.head()"
   ]
  },
  {
   "cell_type": "code",
   "execution_count": null,
   "metadata": {},
   "outputs": [],
   "source": [
    "data.describe()"
   ]
  },
  {
   "cell_type": "code",
   "execution_count": null,
   "metadata": {},
   "outputs": [],
   "source": [
    "plt.figure(figsize=(10,5))\n",
    "plt.plot('Date', 'Total_fires', data = data)\n",
    "plt.ylabel('Count Of Fires')\n",
    "plt.title('Total Fires Over Time')\n",
    "plt.show()"
   ]
  },
  {
   "cell_type": "code",
   "execution_count": null,
   "metadata": {},
   "outputs": [],
   "source": [
    "plt.figure(figsize=(10,5))\n",
    "plt.plot('Date', 'Total_acres', data = data)\n",
    "plt.ylabel('Count Of Fires')\n",
    "plt.title('Total Acres Over Time')\n",
    "plt.show()"
   ]
  },
  {
   "cell_type": "code",
   "execution_count": null,
   "metadata": {},
   "outputs": [],
   "source": [
    "plt.figure(figsize= (8,5))\n",
    "sns.scatterplot(x = 'heat_wave', y = 'last_rain', hue = 'Total_acres', data = data.loc[data['Total_fires'] > 0])\n",
    "plt.show()"
   ]
  },
  {
   "cell_type": "code",
   "execution_count": null,
   "metadata": {},
   "outputs": [],
   "source": [
    "plt.figure(figsize= (8,5))\n",
    "sns.scatterplot(x = 'heat_wave', y = 'last_rain', hue = 'Total_fires', data = data.loc[data['Total_fires'] > 0])\n",
    "plt.show()"
   ]
  },
  {
   "cell_type": "code",
   "execution_count": null,
   "metadata": {},
   "outputs": [],
   "source": [
    "plt.figure(figsize= (8,5))\n",
    "sns.scatterplot(x = 'Total_fires', y = 'Total_acres', hue = 'last_rain', data = data.loc[data['Total_fires'] > 0])\n",
    "plt.legend(loc='lower right')\n",
    "plt.show()"
   ]
  },
  {
   "cell_type": "code",
   "execution_count": null,
   "metadata": {},
   "outputs": [],
   "source": [
    "plt.figure(figsize= (8,5))\n",
    "sns.boxplot(x = 'Total_fires', y = 'last_rain', data = data.loc[data['Total_fires'] > 0])\n",
    "plt.legend(loc='lower right')\n",
    "plt.show()\n"
   ]
  },
  {
   "cell_type": "code",
   "execution_count": null,
   "metadata": {},
   "outputs": [],
   "source": [
    "fig = plt.figure(figsize=(15,8))\n",
    "sns.heatmap(data.corr(),linewidths=.1,cmap=\"YlGnBu\", annot=True)\n",
    "plt.yticks(rotation=0)\n",
    "plt.show()\n"
   ]
  },
  {
   "cell_type": "code",
   "execution_count": null,
   "metadata": {},
   "outputs": [],
   "source": []
  }
 ],
 "metadata": {
  "kernelspec": {
   "display_name": "Python 3",
   "language": "python",
   "name": "python3"
  },
  "language_info": {
   "codemirror_mode": {
    "name": "ipython",
    "version": 3
   },
   "file_extension": ".py",
   "mimetype": "text/x-python",
   "name": "python",
   "nbconvert_exporter": "python",
   "pygments_lexer": "ipython3",
   "version": "3.7.7"
  }
 },
 "nbformat": 4,
 "nbformat_minor": 4
}
